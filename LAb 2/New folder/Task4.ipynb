{
 "cells": [
  {
   "cell_type": "code",
   "execution_count": 5,
   "id": "9364b157",
   "metadata": {},
   "outputs": [
    {
     "name": "stdout",
     "output_type": "stream",
     "text": [
      "Enter the number of packages purchased : 35\n",
      "Total amount of purchase after discount :  3118.5\n"
     ]
    }
   ],
   "source": [
    "package_purchased = int(input(\"Enter the number of packages purchased : \"));\n",
    "\n",
    "if(package_purchased > 10 & package_purchased < 19):\n",
    "    print(\"Total amount of purchase after discount : \", (package_purchased*99) - ((package_purchased*99) / 100) * 10);\n",
    "    \n",
    "elif(package_purchased > 20 & package_purchased < 49):\n",
    "    print(\"Total amount of purchase after discount : \", (package_purchased*99) - ((package_purchased*99) / 100) * 20);\n",
    "    \n",
    "elif(package_purchased > 50 & package_purchased < 99):\n",
    "    print(\"Total amount of purchase after discount : \", (package_purchased*99) - ((package_purchased*99) / 100) * 30);\n",
    "    \n",
    "elif(package_purchased > 100):\n",
    "    print(\"Total amount of purchase after discount : \", (package_purchased*99) - ((package_purchased*99) / 100) * 40);\n",
    "    \n",
    "        "
   ]
  },
  {
   "cell_type": "code",
   "execution_count": null,
   "id": "e7288a1a",
   "metadata": {},
   "outputs": [],
   "source": []
  }
 ],
 "metadata": {
  "kernelspec": {
   "display_name": "Python 3",
   "language": "python",
   "name": "python3"
  },
  "language_info": {
   "codemirror_mode": {
    "name": "ipython",
    "version": 3
   },
   "file_extension": ".py",
   "mimetype": "text/x-python",
   "name": "python",
   "nbconvert_exporter": "python",
   "pygments_lexer": "ipython3",
   "version": "3.8.8"
  }
 },
 "nbformat": 4,
 "nbformat_minor": 5
}
