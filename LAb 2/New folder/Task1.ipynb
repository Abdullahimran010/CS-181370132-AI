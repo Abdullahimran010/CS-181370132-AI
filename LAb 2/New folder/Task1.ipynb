{
 "cells": [
  {
   "cell_type": "code",
   "execution_count": 4,
   "id": "842533b7",
   "metadata": {},
   "outputs": [
    {
     "name": "stdout",
     "output_type": "stream",
     "text": [
      "Enter the body mass : 1\n",
      "Weigth is too light\n"
     ]
    }
   ],
   "source": [
    "mass = float(input(\"Enter the body mass : \"));\n",
    "\n",
    "weight = mass * 9.8066500286389;\n",
    "\n",
    "if(weight > 500):\n",
    "    print(\"Weight is too heavy.\");\n",
    "elif(weight < 100):\n",
    "    print(\"Weigth is too light\");\n",
    "else:\n",
    "    print(\"Weight is not greater than 500 newton or nor less than 100 newton.\");"
   ]
  }
 ],
 "metadata": {
  "kernelspec": {
   "display_name": "Python 3",
   "language": "python",
   "name": "python3"
  },
  "language_info": {
   "codemirror_mode": {
    "name": "ipython",
    "version": 3
   },
   "file_extension": ".py",
   "mimetype": "text/x-python",
   "name": "python",
   "nbconvert_exporter": "python",
   "pygments_lexer": "ipython3",
   "version": "3.8.8"
  }
 },
 "nbformat": 4,
 "nbformat_minor": 5
}
