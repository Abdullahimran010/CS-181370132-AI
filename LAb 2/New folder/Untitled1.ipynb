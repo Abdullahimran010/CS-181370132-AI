{
 "cells": [
  {
   "cell_type": "code",
   "execution_count": null,
   "id": "1fb775f1",
   "metadata": {},
   "outputs": [],
   "source": []
  },
  {
   "cell_type": "code",
   "execution_count": null,
   "id": "5e05a5bb",
   "metadata": {},
   "outputs": [],
   "source": []
  },
  {
   "cell_type": "code",
   "execution_count": null,
   "id": "83d44069",
   "metadata": {},
   "outputs": [],
   "source": [
    "Name = input(\"name plz : \")\n",
    "crd_h  = input (\"enter the credit hours : \")\n",
    "CGPA = input (\"enter cgpa : \")\n",
    "database_course = input(\"0 or 1\")\n",
    "OOAD_SE_course = input(\"0 or 1\")\n",
    "\n",
    "if database_course == 1 and OOAD_SE_course == 1:\n",
    "    print(\"congratx\")\n",
    "    else database_course == 0 and OOAD_SE_course == 0:\n",
    "    print(\"not eligible\")\n",
    "    else crd_h == 4:\n",
    "        print(\"you can take FYP = \")\n",
    "         else:\n",
    "            print(\"you cannot take fyp\")\n",
    "            \n",
    "        if CGPA > 3:\n",
    "            print(\"eligible\")\n",
    "        elif CGPA < 3:\n",
    "            print(\"not eligible\")\n",
    "\n",
    "        \n",
    "print(\"your are eligible\")            "
   ]
  },
  {
   "cell_type": "code",
   "execution_count": null,
   "id": "9defe469",
   "metadata": {},
   "outputs": [],
   "source": []
  }
 ],
 "metadata": {
  "kernelspec": {
   "display_name": "Python 3",
   "language": "python",
   "name": "python3"
  },
  "language_info": {
   "codemirror_mode": {
    "name": "ipython",
    "version": 3
   },
   "file_extension": ".py",
   "mimetype": "text/x-python",
   "name": "python",
   "nbconvert_exporter": "python",
   "pygments_lexer": "ipython3",
   "version": "3.8.8"
  }
 },
 "nbformat": 4,
 "nbformat_minor": 5
}
