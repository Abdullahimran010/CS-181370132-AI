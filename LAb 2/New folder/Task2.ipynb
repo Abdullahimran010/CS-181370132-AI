{
 "cells": [
  {
   "cell_type": "code",
   "execution_count": 4,
   "id": "02f8d6f1",
   "metadata": {},
   "outputs": [
    {
     "name": "stdout",
     "output_type": "stream",
     "text": [
      "Number of people attending the checkout : 34\n",
      "Number of hot dogs per person is : 3\n",
      "Number of Hot Dogs Packages is require :  10.2\n",
      "Number of Hot Dogs Bun packages is require :  12.75\n"
     ]
    }
   ],
   "source": [
    "people_attendence = int(input(\"Number of people attending the checkout : \"));\n",
    "\n",
    "hot_dogs_each_person = int(input(\"Number of hot dogs per person is : \"));\n",
    "\n",
    "hot_dogs_required = (people_attendence*hot_dogs_each_person) / 10;\n",
    "\n",
    "hot_dogs_bun_required = (people_attendence*hot_dogs_each_person) / 8;\n",
    "\n",
    "print(\"Number of Hot Dogs Packages is require : \",hot_dogs_required);\n",
    "print(\"Number of Hot Dogs Bun packages is require : \",hot_dogs_bun_required);\n",
    "\n",
    "# print(\"Number of Hot Dogs require is : \",hot_dogs_required);\n",
    "# print(\"Number of Hot Dogs Bun require is : \",hot_dogs_bun_required);\n",
    "\n",
    "\n",
    "\n",
    "\n"
   ]
  },
  {
   "cell_type": "code",
   "execution_count": null,
   "id": "211ce13f",
   "metadata": {},
   "outputs": [],
   "source": []
  }
 ],
 "metadata": {
  "kernelspec": {
   "display_name": "Python 3",
   "language": "python",
   "name": "python3"
  },
  "language_info": {
   "codemirror_mode": {
    "name": "ipython",
    "version": 3
   },
   "file_extension": ".py",
   "mimetype": "text/x-python",
   "name": "python",
   "nbconvert_exporter": "python",
   "pygments_lexer": "ipython3",
   "version": "3.8.8"
  }
 },
 "nbformat": 4,
 "nbformat_minor": 5
}
