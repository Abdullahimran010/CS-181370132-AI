{
 "cells": [
  {
   "cell_type": "code",
   "execution_count": 15,
   "id": "e9cc952f",
   "metadata": {},
   "outputs": [
    {
     "name": "stdout",
     "output_type": "stream",
     "text": [
      "Weight of package : 23\n",
      "Weight charges is :  109.25\n"
     ]
    }
   ],
   "source": [
    "weight_of_package = float(input(\"Weight of package : \"));\n",
    "\n",
    "if(weight_of_package <= 2):\n",
    "    print(\"Weight charges is : \", weight_of_package*1.50);\n",
    "    \n",
    "elif(weight_of_package > 2 and weight_of_package <= 6):\n",
    "    print(\"Weight charges is : \", weight_of_package*3.00);\n",
    "    \n",
    "elif(weight_of_package > 6 and weight_of_package <= 10):\n",
    "    print(\"Weight charges is : \", weight_of_package*4.00); \n",
    "    \n",
    "elif(weight_of_package > 10):\n",
    "    print(\"Weight charges is : \", weight_of_package*4.75);    "
   ]
  },
  {
   "cell_type": "code",
   "execution_count": null,
   "id": "cf3b9815",
   "metadata": {},
   "outputs": [],
   "source": []
  }
 ],
 "metadata": {
  "kernelspec": {
   "display_name": "Python 3",
   "language": "python",
   "name": "python3"
  },
  "language_info": {
   "codemirror_mode": {
    "name": "ipython",
    "version": 3
   },
   "file_extension": ".py",
   "mimetype": "text/x-python",
   "name": "python",
   "nbconvert_exporter": "python",
   "pygments_lexer": "ipython3",
   "version": "3.8.8"
  }
 },
 "nbformat": 4,
 "nbformat_minor": 5
}
