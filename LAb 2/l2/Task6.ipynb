{
 "cells": [
  {
   "cell_type": "code",
   "execution_count": null,
   "id": "006f4e85",
   "metadata": {},
   "outputs": [],
   "source": []
  },
  {
   "cell_type": "code",
   "execution_count": null,
   "id": "f7ea2025",
   "metadata": {},
   "outputs": [],
   "source": []
  },
  {
   "cell_type": "code",
   "execution_count": 8,
   "id": "23585959",
   "metadata": {},
   "outputs": [
    {
     "name": "stdout",
     "output_type": "stream",
     "text": [
      "enter your height : 110\n",
      "enter your weight : 170\n",
      "9.87685950413223\n",
      "underweight\n"
     ]
    }
   ],
   "source": [
    "h = int(input(\"enter your height : \"))\n",
    "w = int(input(\"enter your weight : \"))\n",
    "\n",
    "(BMI) = w * 703 / h**2\n",
    "print(BMI)\n",
    "\n",
    "if(BMI >= 18.5 and BMI <=25):\n",
    "    print(\"OPtimall\")\n",
    "elif(BMI <= 18.5):\n",
    "    print(\"underweight\")\n",
    "elif(BMI > 25):\n",
    "    print(\"Overweight\")\n",
    "\n"
   ]
  }
 ],
 "metadata": {
  "kernelspec": {
   "display_name": "Python 3",
   "language": "python",
   "name": "python3"
  },
  "language_info": {
   "codemirror_mode": {
    "name": "ipython",
    "version": 3
   },
   "file_extension": ".py",
   "mimetype": "text/x-python",
   "name": "python",
   "nbconvert_exporter": "python",
   "pygments_lexer": "ipython3",
   "version": "3.8.8"
  }
 },
 "nbformat": 4,
 "nbformat_minor": 5
}
