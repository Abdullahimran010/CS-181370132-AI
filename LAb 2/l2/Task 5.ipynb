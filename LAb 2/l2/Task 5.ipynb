{
 "cells": [
  {
   "cell_type": "code",
   "execution_count": null,
   "id": "cfdac194",
   "metadata": {},
   "outputs": [],
   "source": []
  },
  {
   "cell_type": "code",
   "execution_count": null,
   "id": "a846cdfe",
   "metadata": {},
   "outputs": [],
   "source": []
  },
  {
   "cell_type": "code",
   "execution_count": null,
   "id": "c559bc05",
   "metadata": {},
   "outputs": [],
   "source": []
  },
  {
   "cell_type": "code",
   "execution_count": 1,
   "id": "659a57aa",
   "metadata": {},
   "outputs": [
    {
     "name": "stdout",
     "output_type": "stream",
     "text": [
      "enter te weight : 6\n",
      "6\n",
      "24.0\n"
     ]
    }
   ],
   "source": [
    "weight = int(input(\"enter te weight : \"))\n",
    "print(weight)\n",
    "\n",
    "if weight <= 2:\n",
    "    p = weight * 1.50 \n",
    "    \n",
    "    print(p)\n",
    "elif(weight > 2 and weight < 6):\n",
    "    p2 = weight * 3.00\n",
    "    \n",
    "    print(p2)\n",
    "elif(weight >= 6 and weight < 10):\n",
    "    p4 = weight * 4.00\n",
    "    \n",
    "    print(p4)\n",
    "elif weight <= 10:\n",
    "    p6 = weight * 4.75\n",
    "   \n",
    "    print(p6)    "
   ]
  }
 ],
 "metadata": {
  "kernelspec": {
   "display_name": "Python 3",
   "language": "python",
   "name": "python3"
  },
  "language_info": {
   "codemirror_mode": {
    "name": "ipython",
    "version": 3
   },
   "file_extension": ".py",
   "mimetype": "text/x-python",
   "name": "python",
   "nbconvert_exporter": "python",
   "pygments_lexer": "ipython3",
   "version": "3.8.8"
  }
 },
 "nbformat": 4,
 "nbformat_minor": 5
}
