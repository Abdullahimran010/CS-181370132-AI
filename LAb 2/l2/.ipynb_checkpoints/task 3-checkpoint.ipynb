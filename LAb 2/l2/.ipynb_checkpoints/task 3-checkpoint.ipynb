{
 "cells": [
  {
   "cell_type": "markdown",
   "id": "6886a907",
   "metadata": {},
   "source": [
    "# 7.3 Miles Per Gallon\n",
    "\n",
    "\n",
    "Drivers are concerned with the mileage obtained by their automobiles. One driver has kept track\n",
    "of several tankfuls of gasoline by recording miles driven and gallons used for each tankful. Develop\n",
    "a sentinel-controlled-repetition script that prompts the user to input the miles driven and gallons\n",
    "used for each tankful. The script should calculate and display the miles per gallon obtained for\n",
    "each tankful. After processing all input information, the script should calculate and display the\n",
    "combined miles per gallon obtained for all tankfuls (that is, total miles driven divided by total\n",
    "gallons used).\n",
    "• Enter the gallons used (-1 to end): 12.8\n",
    "• Enter the miles driven: 287\n",
    "• The miles/gallon for this tank was 22.421875\n",
    "• Enter the gallons used (-1 to end): 10.3\n",
    "• Enter the miles driven: 200\n",
    "• The miles/gallon for this tank was 19.417475\n",
    "• Enter the gallons used (-1 to end): 5\n",
    "16\n",
    "\n",
    "• Enter the miles driven: 120\n",
    "• The miles/gallon for this tank was 24.000000\n",
    "• Enter the gallons used (-1 to end): -1\n",
    "• The overall average miles/gallon was 21.601423"
   ]
  },
  {
   "cell_type": "code",
   "execution_count": 2,
   "id": "ce1af726",
   "metadata": {},
   "outputs": [
    {
     "ename": "IndentationError",
     "evalue": "unexpected indent (<ipython-input-2-b2cb065d7f79>, line 17)",
     "output_type": "error",
     "traceback": [
      "\u001b[1;36m  File \u001b[1;32m\"<ipython-input-2-b2cb065d7f79>\"\u001b[1;36m, line \u001b[1;32m17\u001b[0m\n\u001b[1;33m    d = p / p1\u001b[0m\n\u001b[1;37m    ^\u001b[0m\n\u001b[1;31mIndentationError\u001b[0m\u001b[1;31m:\u001b[0m unexpected indent\n"
     ]
    }
   ],
   "source": [
    "p = 0;\n",
    "p1 = 0;\n",
    "#range\n",
    "for i in range(10):\n",
    "    noofgal = float(input(\"Enter the gallon used (-1 to end) : \"));\n",
    "   \n",
    "    if(noofgal != -1):\n",
    "        M = float(input(\"Enter the miles : \"))\n",
    "        overall_miles = M / noofgal;\n",
    "        c = overall_miles\n",
    "        print(c)\n",
    "        p+= overall;\n",
    "        p1+= 1;\n",
    "        \n",
    "    elif(noofgal == -1):\n",
    "        print(\"The overall average miles/gallon was : \")\n",
    "        d = p / p1\n",
    "        print(d)\n",
    "        break;"
   ]
  }
 ],
 "metadata": {
  "kernelspec": {
   "display_name": "Python 3",
   "language": "python",
   "name": "python3"
  },
  "language_info": {
   "codemirror_mode": {
    "name": "ipython",
    "version": 3
   },
   "file_extension": ".py",
   "mimetype": "text/x-python",
   "name": "python",
   "nbconvert_exporter": "python",
   "pygments_lexer": "ipython3",
   "version": "3.8.8"
  }
 },
 "nbformat": 4,
 "nbformat_minor": 5
}
