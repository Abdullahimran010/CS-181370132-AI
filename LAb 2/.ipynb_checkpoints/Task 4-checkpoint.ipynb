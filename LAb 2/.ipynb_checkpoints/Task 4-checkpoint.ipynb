{
 "cells": [
  {
   "cell_type": "code",
   "execution_count": null,
   "id": "de4d3408",
   "metadata": {},
   "outputs": [],
   "source": []
  },
  {
   "cell_type": "code",
   "execution_count": null,
   "id": "2d4db78b",
   "metadata": {},
   "outputs": [],
   "source": []
  },
  {
   "cell_type": "code",
   "execution_count": 17,
   "id": "d14aaf4e",
   "metadata": {},
   "outputs": [
    {
     "name": "stdout",
     "output_type": "stream",
     "text": [
      "enter te packages : 33\n",
      "33\n",
      "9801.0\n"
     ]
    }
   ],
   "source": [
    "packages = int(input(\"enter te packages : \"))\n",
    "print(packages)\n",
    "\n",
    "if(packages > 10 and packages < 19):\n",
    "    p = packages * 99\n",
    "    p1 = (p * 100 /10) - p\n",
    "    print(p1)\n",
    "elif(packages > 20 and packages < 49):\n",
    "    p2 = packages * 99\n",
    "    p3 = (3 * 100 /20) - 2\n",
    "    print(p1)\n",
    "elif(packages > 50 and packages < 99):\n",
    "    p4 = packages * 99\n",
    "    p5 = (p4 * 100 /30) - p4\n",
    "    print(p5)\n",
    "elif(packages > 100 and packages < 200):\n",
    "    p6 = packages * 99\n",
    "    p7 = (p6 * 100 /40) - p6\n",
    "    print(p7)    \n",
    "    "
   ]
  }
 ],
 "metadata": {
  "kernelspec": {
   "display_name": "Python 3",
   "language": "python",
   "name": "python3"
  },
  "language_info": {
   "codemirror_mode": {
    "name": "ipython",
    "version": 3
   },
   "file_extension": ".py",
   "mimetype": "text/x-python",
   "name": "python",
   "nbconvert_exporter": "python",
   "pygments_lexer": "ipython3",
   "version": "3.8.8"
  }
 },
 "nbformat": 4,
 "nbformat_minor": 5
}
