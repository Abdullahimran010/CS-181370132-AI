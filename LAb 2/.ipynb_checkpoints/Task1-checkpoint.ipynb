{
 "cells": [
  {
   "cell_type": "markdown",
   "id": "c131de6e",
   "metadata": {},
   "source": [
    "# 7.1 Mass and Weight\n",
    "\n",
    "\n",
    "Scientists measure an object’s mass in kilograms and its weight in newtons. If you know the amount\n",
    "of mass of an object in kilograms, you can calculate its weight in newtons with the following formula:\n",
    "**\n",
    "weight = mass * 3 9.8\n",
    "** Write a program that asks the user to enter an object’s mass, and then calculates its weight. If\n",
    "the object weighs more than 500 newtons, display a message indicating that it is too heavy. If the\n",
    "object weighs less than 100 newtons, display a message indicating that it is too light."
   ]
  },
  {
   "cell_type": "code",
   "execution_count": 32,
   "id": "f8f7094b",
   "metadata": {},
   "outputs": [
    {
     "name": "stdout",
     "output_type": "stream",
     "text": [
      "Enter mass of object = 55\n",
      "weight is =  539.0\n",
      "too heaaavy  =  539.0\n"
     ]
    }
   ],
   "source": [
    "mass = float(input(\"Enter mass of object = \"))\n",
    "weight = mass * 9.8\n",
    "print(\"weight is = \" , weight)\n",
    "\n",
    "if weight < 100:\n",
    "    print(\"ITs too light = \" , weight )\n",
    "\n",
    "if weight > 500:\n",
    "    print(\"too heaaavy  = \" , weight )\n",
    "        \n",
    "else:\n",
    "    print(\"otherwise weight is  = \" , weight )\n",
    "    \n",
    "    \n"
   ]
  },
  {
   "cell_type": "code",
   "execution_count": null,
   "id": "1758b7ae",
   "metadata": {},
   "outputs": [],
   "source": []
  },
  {
   "cell_type": "code",
   "execution_count": null,
   "id": "da183fe1",
   "metadata": {},
   "outputs": [],
   "source": []
  }
 ],
 "metadata": {
  "kernelspec": {
   "display_name": "Python 3",
   "language": "python",
   "name": "python3"
  },
  "language_info": {
   "codemirror_mode": {
    "name": "ipython",
    "version": 3
   },
   "file_extension": ".py",
   "mimetype": "text/x-python",
   "name": "python",
   "nbconvert_exporter": "python",
   "pygments_lexer": "ipython3",
   "version": "3.8.8"
  }
 },
 "nbformat": 4,
 "nbformat_minor": 5
}
