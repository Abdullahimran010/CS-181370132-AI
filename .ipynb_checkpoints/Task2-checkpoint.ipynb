{
 "cells": [
  {
   "cell_type": "markdown",
   "id": "47d3ace6",
   "metadata": {},
   "source": [
    "# 7.2 Hot Dogs Cookout Calculator\n",
    "Assume that hot dogs come in packages of 10, and hot dog buns come in packages of 8. Write a\n",
    "program that calculates the number of packages of hot dogs and the number of packages of hot dog\n",
    "buns needed for a cookout, with the minimum amount of leftovers. The program should ask the\n",
    "user for the number of people attending the cookout and the number of hot dogs each person will\n",
    "be given. The program should display the following details: * The minimum number of packages\n",
    "of hot dogs required * The minimum number of packages of hot dog buns required * The number\n",
    "of hot dogs that will be left over * The number of hot dog buns that will be left over"
   ]
  },
  {
   "cell_type": "code",
   "execution_count": 3,
   "id": "30c31573",
   "metadata": {},
   "outputs": [
    {
     "name": "stdout",
     "output_type": "stream",
     "text": [
      "HOW manu people : 20\n",
      "hot dog for each 2\n",
      "4.0\n",
      "5.0\n"
     ]
    }
   ],
   "source": [
    "hot_dog = 10\n",
    "hot_dog_bun = 8\n",
    "num_people = int(input(\"HOW manu people : \"))\n",
    "each_hotdog = int(input(\"hot dog for each \"))\n",
    "\n",
    "total_hd_rec = num_people * each_hotdog /10\n",
    "\n",
    "print (total_hd_rec )\n",
    "\n",
    "total_hot_bun = num_people * each_hotdog / 8\n",
    "print(total_hot_bun)"
   ]
  },
  {
   "cell_type": "code",
   "execution_count": null,
   "id": "f2330046",
   "metadata": {},
   "outputs": [],
   "source": []
  },
  {
   "cell_type": "code",
   "execution_count": null,
   "id": "9d378284",
   "metadata": {},
   "outputs": [],
   "source": []
  }
 ],
 "metadata": {
  "kernelspec": {
   "display_name": "Python 3",
   "language": "python",
   "name": "python3"
  },
  "language_info": {
   "codemirror_mode": {
    "name": "ipython",
    "version": 3
   },
   "file_extension": ".py",
   "mimetype": "text/x-python",
   "name": "python",
   "nbconvert_exporter": "python",
   "pygments_lexer": "ipython3",
   "version": "3.8.8"
  }
 },
 "nbformat": 4,
 "nbformat_minor": 5
}
