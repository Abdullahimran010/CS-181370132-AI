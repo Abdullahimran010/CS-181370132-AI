{
 "cells": [
  {
   "cell_type": "markdown",
   "id": "57cdd11a",
   "metadata": {},
   "source": [
    "# 7.2 \n",
    "\n",
    "\n",
    "Tip, Tax and Total\n",
    "Write a program that calculates the total amount of a meal purchased at a restaurant. The program\n",
    "should ask the user to enter the charge for the food, and then calculate the amount of a 18 percent\n",
    "tip and 7 percent sales tax. Display each of these amounts and the total.\n"
   ]
  },
  {
   "cell_type": "markdown",
   "id": "c0664430",
   "metadata": {},
   "source": [
    "charge = int(input(\"Enter the amount = \"))"
   ]
  },
  {
   "cell_type": "code",
   "execution_count": 4,
   "id": "b498252b",
   "metadata": {},
   "outputs": [
    {
     "name": "stdout",
     "output_type": "stream",
     "text": [
      "Enter the amount = 1400\n",
      "1400\n"
     ]
    }
   ],
   "source": [
    "charge = int(input(\"Enter the amount = \"))\n",
    "print(charge)"
   ]
  },
  {
   "cell_type": "code",
   "execution_count": 5,
   "id": "4019ebde",
   "metadata": {},
   "outputs": [
    {
     "name": "stdout",
     "output_type": "stream",
     "text": [
      "252.0\n"
     ]
    }
   ],
   "source": [
    "Amount_of_tip = 1400 * 18 / 100\n",
    "print(Amount_of_tip)"
   ]
  },
  {
   "cell_type": "code",
   "execution_count": 6,
   "id": "27b36db5",
   "metadata": {},
   "outputs": [
    {
     "name": "stdout",
     "output_type": "stream",
     "text": [
      "98.0\n"
     ]
    }
   ],
   "source": [
    "Sales_tax = 1400 * 7 / 100\n",
    "print(Sales_tax)"
   ]
  },
  {
   "cell_type": "code",
   "execution_count": 8,
   "id": "e88028e9",
   "metadata": {},
   "outputs": [
    {
     "name": "stdout",
     "output_type": "stream",
     "text": [
      "Total amount is =  1750.0\n"
     ]
    }
   ],
   "source": [
    "total = charge + Amount_of_tip + Sales_tax\n",
    "print(\"Total amount is = \" , total)"
   ]
  },
  {
   "cell_type": "code",
   "execution_count": null,
   "id": "43859947",
   "metadata": {},
   "outputs": [],
   "source": []
  }
 ],
 "metadata": {
  "kernelspec": {
   "display_name": "Python 3",
   "language": "python",
   "name": "python3"
  },
  "language_info": {
   "codemirror_mode": {
    "name": "ipython",
    "version": 3
   },
   "file_extension": ".py",
   "mimetype": "text/x-python",
   "name": "python",
   "nbconvert_exporter": "python",
   "pygments_lexer": "ipython3",
   "version": "3.8.8"
  }
 },
 "nbformat": 4,
 "nbformat_minor": 5
}
