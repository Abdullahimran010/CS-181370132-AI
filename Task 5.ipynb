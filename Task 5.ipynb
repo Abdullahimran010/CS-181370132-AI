{
 "cells": [
  {
   "cell_type": "markdown",
   "id": "338d318f",
   "metadata": {},
   "source": [
    "# Last month Joe purchased some stock in Acme Software, Inc. Here are the details of the purchase:\n",
    "* The number of shares that Joe purchased was 2,000. * When Joe purchased the stock, he paid\n",
    "40.00 Dollar per share. * Joe paid his stockbroker a commission that amounted to 3 percent of the\n",
    "amount he paid for the stock.\n",
    "Two weeks later Joe sold the stock. Here are the details of the sale: * The number of shares that\n",
    "Joe sold was 2,000. * He sold the stock for 42.75 Dollar per share. * He paid his stockbroker\n",
    "another commission that amounted to 3 percent of the amount he received for the stock.\n",
    "Write a program that displays the following information: * The amount of money Joe paid for the\n",
    "stock. * The amount of commission Joe paid his broker when he bought the stock. * The amount\n",
    "that Joe sold the stock for. * The amount of commission Joe paid his broker when he sold the\n",
    "stock. * Display the amount of money that Joe had left when he sold the stock and paid his broker\n",
    "(both times). If this amount is positive, then Joe made a profit. If the amount is negative, then\n",
    "Joe lost money.\n",
    "\n"
   ]
  },
  {
   "cell_type": "code",
   "execution_count": 23,
   "id": "a1b01525",
   "metadata": {},
   "outputs": [
    {
     "name": "stdout",
     "output_type": "stream",
     "text": [
      "total amount of buying the shares = \n",
      "80000\n",
      "paid his stockbroker commission that amounted to 3 percent of the amount he received for the stock\n",
      "2400.0\n",
      "Display the amount of money that Joe had left when he buy the stock and paid his broker\n",
      "77600.0\n"
     ]
    }
   ],
   "source": [
    "shares = 2000\n",
    "Paid_for_1_share = 40.00\n",
    "total_amount = 40 * 2000\n",
    "\n",
    "print(\"total amount of buying the shares = \")\n",
    "print(total_amount)\n",
    "\n",
    "print(\"paid his stockbroker commission that amounted to 3 percent of the amount he received for the stock\")\n",
    "Comission = 80000 *3 /100\n",
    "print(Comission)\n",
    "\n",
    "print(\"Display the amount of money that Joe had left when he buy the stock and paid his broker\")\n",
    "total_Money_after_buy = total_amount - Comission\n",
    "\n",
    "print(total_Money_after_buy) #Money after sold\n"
   ]
  },
  {
   "cell_type": "code",
   "execution_count": 24,
   "id": "15e180a1",
   "metadata": {},
   "outputs": [
    {
     "name": "stdout",
     "output_type": "stream",
     "text": [
      "total amount of sold the shares = \n",
      "85500.0\n",
      "paid his stockbroker another commission that amounted to 3 percent of the amount he received for the stock\n",
      "2565.0\n",
      "Display the amount of money that Joe had left when he sold the stock and paid his broker\n",
      "82935.0\n"
     ]
    }
   ],
   "source": [
    "shares = 2000\n",
    "sold_to_1share = 42.75\n",
    "total_amount_after_sold = 42.75 * 2000\n",
    "print(\"total amount of sold the shares = \")\n",
    "print(total_amount_after_sold)\n",
    "\n",
    "print(\"paid his stockbroker another commission that amounted to 3 percent of the amount he received for the stock\")\n",
    "commission_2 = 85500 * 3 / 100\n",
    "print(commission_2)\n",
    "\n",
    "total_Money_after_sold = total_amount_after_sold - commission_2\n",
    "print(\"Display the amount of money that Joe had left when he sold the stock and paid his broker\")\n",
    "print(total_Money_after_sold) #Money after sold\n"
   ]
  },
  {
   "cell_type": "code",
   "execution_count": 26,
   "id": "e607c8c3",
   "metadata": {},
   "outputs": [
    {
     "name": "stdout",
     "output_type": "stream",
     "text": [
      "5500.0\n"
     ]
    }
   ],
   "source": [
    "Profit =  total_amount_after_sold - total_amount\n",
    "print(Profit)"
   ]
  },
  {
   "cell_type": "code",
   "execution_count": null,
   "id": "cc97f146",
   "metadata": {},
   "outputs": [],
   "source": []
  }
 ],
 "metadata": {
  "kernelspec": {
   "display_name": "Python 3",
   "language": "python",
   "name": "python3"
  },
  "language_info": {
   "codemirror_mode": {
    "name": "ipython",
    "version": 3
   },
   "file_extension": ".py",
   "mimetype": "text/x-python",
   "name": "python",
   "nbconvert_exporter": "python",
   "pygments_lexer": "ipython3",
   "version": "3.8.8"
  }
 },
 "nbformat": 4,
 "nbformat_minor": 5
}
